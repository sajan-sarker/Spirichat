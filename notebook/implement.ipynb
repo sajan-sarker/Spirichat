{
 "cells": [
  {
   "cell_type": "code",
   "execution_count": null,
   "id": "7b38a57d",
   "metadata": {},
   "outputs": [],
   "source": [
    "from pinecone import Pinecone, ServerlessSpec\n",
    "from langchain_pinecone import PineconeVectorStore\n",
    "from langchain_huggingface import HuggingFaceEmbeddings\n",
    "from langchain_huggingface import ChatHuggingFace, HuggingFaceEndpoint\n",
    "from langchain_core.runnables import RunnableParallel, RunnablePassthrough, RunnableLambda\n",
    "from langchain_core.output_parsers import StrOutputParser\n",
    "from langchain_openai import ChatOpenAI\n",
    "from dotenv import load_dotenv\n",
    "from app.utils import *\n",
    "from app.prompt import prompt\n",
    "import warnings \n",
    "warnings.filterwarnings(\"ignore\")"
   ]
  },
  {
   "cell_type": "code",
   "execution_count": 2,
   "id": "c0711aa9",
   "metadata": {},
   "outputs": [
    {
     "data": {
      "text/plain": [
       "True"
      ]
     },
     "execution_count": 2,
     "metadata": {},
     "output_type": "execute_result"
    }
   ],
   "source": [
    "load_dotenv()"
   ]
  },
  {
   "cell_type": "code",
   "execution_count": null,
   "id": "a14a1be9",
   "metadata": {},
   "outputs": [],
   "source": [
    "# Load the documents from the specified directory\n",
    "data = load_documents(\"data/\")"
   ]
  },
  {
   "cell_type": "code",
   "execution_count": 15,
   "id": "af4e05c1",
   "metadata": {},
   "outputs": [
    {
     "name": "stdout",
     "output_type": "stream",
     "text": [
      "Loaded 911 documents.\n",
      "\n",
      "Sample document: \n",
      "page_content='2 \n",
      "s h a p i n g  f e a r\n",
      "For English Protestants the monster was the many- headed Hydra of the \n",
      "Catholic Church, for Catholics the diabolic reforms of Martin Luther, John \n",
      "Calvin, and others. There are monsters in the ages before us and monsters \n",
      "right in front of us, and often those new monsters wear the shapes of the old.\n",
      "So my question about the nature of fear must be expanded to include \n",
      "time: What is the relation between what scares us now and what scared people \n",
      "in the past? Is being afraid something that is hardwired into human nature \n",
      "and never varies over the centuries? Do fears always take the same shapes, or \n",
      "do nations and cultures have distinctive fears that may metamorphose through \n",
      "the centuries? In other words, what is universal about fear, and what is cultur-\n",
      "ally specific in its images and stories? What belongs to a certain era and what \n",
      "transcends time? What is the process by which nameless dreads are named?\n",
      "Fear indeed might be a reasonable response to potential danger; an emo-\n",
      "tion to be stimulated and manipulated; an enlivener of action that allows us \n",
      "to take risks; or a stifler of action that encourages a frozen immobility before \n",
      "a threat. Aristotle defined virtue as the midpoint of two vices. Could fear by \n",
      "the same reasoning be the midpoint between paranoia and apathy? Might in \n",
      "some situations fear be a virtue? Does religion need fear to retain its power? \n",
      "Does morality?\n",
      "Many fears are personal. But when does personal fear become the fear of \n",
      "a whole locality (like the belief that the aristocracy was causing bad harvests \n",
      "in the early French Revolution), and when does it expand to become a na-\n",
      "tional fear (like the paranoia of Cold War America), let alone a worldwide \n",
      "fear? Surely, the expansion of media fuels fear just as it enhances gossip and \n",
      "every other sort of simulated human contact. As the neuroscientist Antonio \n",
      "Damasio has argued, innate behaviors like fear, anger, or disgust require cir-\n",
      "cumstances to give them shape. He uses the phrase “switched on” (which has \n",
      "a more mechanistic air than the rest of his argument implies) to describe the \n",
      "process by which emotional potentials in individual nature become feelings, \n",
      "when they are shaped by the personal and cultural stories in which they make \n",
      "their appearance. My favorite example of this process is how for many years \n",
      "the stereotype of a person with delusions of grandeur has been that he be-\n",
      "lieved he was Napoleon. But who did such a person believe he was before \n",
      "Napoleon existed? As Michiko Iwasaka and Barre Toelken have written about \n",
      "Japanese ghost legends, such stories also “seem to dramatize areas of doubt, \n",
      "ambiguity, anxiety, and concern which are not addressed by ‘scientific’ \n",
      "means—matters involving human emotions which are strongly connected to \n",
      "cultural values, but for which there are no clear answers.”1' metadata={'producer': 'PyPDF2', 'creator': '', 'creationdate': '', 'source': 'data\\\\haunted-on-ghosts-witches-vampires-zombies-and-other-monsters-of-the-natural-and-supernatural-worlds-9780300224726_compress.pdf', 'file_path': 'data\\\\haunted-on-ghosts-witches-vampires-zombies-and-other-monsters-of-the-natural-and-supernatural-worlds-9780300224726_compress.pdf', 'total_pages': 334, 'format': 'PDF 1.5', 'title': '', 'author': '', 'subject': '', 'keywords': '', 'moddate': '', 'trapped': '', 'modDate': '', 'creationDate': '', 'page': 15}...\n"
     ]
    }
   ],
   "source": [
    "print(f\"Loaded {len(data)} documents.\")\n",
    "print(f\"\\nSample document: \\n{data[15]}...\")"
   ]
  },
  {
   "cell_type": "code",
   "execution_count": null,
   "id": "503203cc",
   "metadata": {},
   "outputs": [],
   "source": [
    "# Split the documents into chunks\n",
    "chunks = split_chunks(data)"
   ]
  },
  {
   "cell_type": "code",
   "execution_count": 16,
   "id": "1f4be68f",
   "metadata": {},
   "outputs": [
    {
     "name": "stdout",
     "output_type": "stream",
     "text": [
      "Split into 5035 chunks.\n",
      "\n",
      "Sample chunk: \n",
      "page_content='p r e f a c e  \n",
      "xi\n",
      "the scattered fears of the past coalesce into more pervasive terrors, when the \n",
      "old stories meet new circumstances that expand and intensify their meaning.\n",
      "Many times, in the course of my discussion, I have touched on issues that \n",
      "take up several library shelves, whether in religion, law, literature, science, and \n",
      "elsewhere. Many of these areas of study are controversial, and their authors are \n",
      "often a confusing but heady mixture of the academic, the fan, and the believer. \n",
      "As much as I could within the compass of my argument, I have tried to absorb \n",
      "the insights of scholarship as well as enthusiasm without delving excessively \n",
      "into often fascinating disputes that in themselves are well worth exploring. \n",
      "In its discussion of the relation of horror to religion, for example, Haunted \n",
      "is not so much about the intricate historical investigations that have taken \n",
      "place into the nature of belief in demons versus the rarefied realm of demono-' metadata={'producer': 'PyPDF2', 'creator': '', 'creationdate': '', 'source': 'data\\\\haunted-on-ghosts-witches-vampires-zombies-and-other-monsters-of-the-natural-and-supernatural-worlds-9780300224726_compress.pdf', 'file_path': 'data\\\\haunted-on-ghosts-witches-vampires-zombies-and-other-monsters-of-the-natural-and-supernatural-worlds-9780300224726_compress.pdf', 'total_pages': 334, 'format': 'PDF 1.5', 'title': '', 'author': '', 'subject': '', 'keywords': '', 'moddate': '', 'trapped': '', 'modDate': '', 'creationDate': '', 'page': 10}...\n"
     ]
    }
   ],
   "source": [
    "print(f\"Split into {len(chunks)} chunks.\")\n",
    "print(f\"\\nSample chunk: \\n{chunks[15]}...\")"
   ]
  },
  {
   "cell_type": "code",
   "execution_count": 17,
   "id": "044755da",
   "metadata": {},
   "outputs": [],
   "source": [
    "# Initialize the HuggingFace embeddings\n",
    "embedding = HuggingFaceEmbeddings(\n",
    "    model_name=\"sentence-transformers/all-MiniLM-L6-v2\",\n",
    ")"
   ]
  },
  {
   "cell_type": "code",
   "execution_count": null,
   "id": "bba89908",
   "metadata": {},
   "outputs": [],
   "source": [
    "# Initialize the Pinecone vector store\n",
    "pinecone = Pinecone(\n",
    "    api_key=os.getenv(\"PINECONE_API_KEY\"),\n",
    ")\n",
    "index_name = \"spirichat\"\n",
    "\n",
    "# Check if the index exists, if not exists, create it\n",
    "if not pinecone.has_index(index_name):\n",
    "    pinecone.create_index(\n",
    "        name=index_name,\n",
    "        dimension=len(embedding.embed_query(\"Hello, world!\")),\n",
    "        metric=\"cosine\",\n",
    "        spec=ServerlessSpec(\n",
    "            cloud=\"aws\",\n",
    "            region='us-east-1'\n",
    "        )\n",
    "    )"
   ]
  },
  {
   "cell_type": "code",
   "execution_count": 19,
   "id": "e3ac0a39",
   "metadata": {},
   "outputs": [],
   "source": [
    "# Connect to the Pinecone index\n",
    "index = pinecone.Index(index_name)\n",
    "\n",
    "# Create the Pinecone vector store\n",
    "vector_store = PineconeVectorStore(\n",
    "    index=index,\n",
    "    embedding=embedding\n",
    ")"
   ]
  },
  {
   "cell_type": "code",
   "execution_count": 48,
   "id": "1da6cc49",
   "metadata": {},
   "outputs": [],
   "source": [
    "# add the chunks to the vector store\n",
    "# vector_store.add_documents(\n",
    "#     documents=chunks,\n",
    "#     ids=[f\"chunk_{i}\" for i in range(len(chunks))]\n",
    "# ) "
   ]
  },
  {
   "cell_type": "code",
   "execution_count": 20,
   "id": "c7a19ed0",
   "metadata": {},
   "outputs": [],
   "source": [
    "def retrieve_query(query, top_k=5, get_k=3):\n",
    "    \"\"\" Retrieve the top k documents from the vector store based on the query and return the top 3 results. \"\"\"\n",
    "    # perform similarity search with score\n",
    "    results = vector_store.similarity_search_with_score(\n",
    "        query=query,\n",
    "        k=top_k,\n",
    "    )\n",
    "\n",
    "    sorted_result = sorted(results, key=lambda x: x[1], reverse=True)   # Sort by score in descending order\n",
    "    get3_docs = sorted_result[:get_k]   # Get top 3 documents and return them\n",
    "    return get3_docs"
   ]
  },
  {
   "cell_type": "code",
   "execution_count": 21,
   "id": "a70d29e3",
   "metadata": {},
   "outputs": [],
   "source": [
    "# search a sample query\n",
    "search = retrieve_query(\"Why Spirits are so scary?\")"
   ]
  },
  {
   "cell_type": "code",
   "execution_count": 28,
   "id": "4a136cdb",
   "metadata": {},
   "outputs": [
    {
     "name": "stdout",
     "output_type": "stream",
     "text": [
      "Retrived Documents:\n",
      "\n",
      "Score: 0.644313693\n",
      "Document: held by tribal cultures around the world. The appearance \n",
      "of spirits of the dead plays a role in rituals and beliefs \n",
      "among native North and South Americans. In some South \n",
      "American tribes, the dead appear as guardian spirits to \n",
      "medicine men and shamans.\n",
      "The ancient Hebrews, Egyptians, Greeks, and Romans \n",
      "believed that the souls of the dead could return to haunt \n",
      "the living. The Roman scholar Pliny the Younger recorded \n",
      "the case of a Greek philosopher who moved into a \n",
      "haunted house. An apparition appeared wearing chains \n",
      "and led the philosopher to a spot where an excavation \n",
      "later revealed a skeleton in chains (see ATHENODORUS, \n",
      "HAUNTING OF).\n",
      "During the Dark Ages, people believed in all manner \n",
      "of apparitions, usually frightful: DEMONS, VAMPIRES, and \n",
      "spectral creatures such as BLACK DOGS (see also BLACK \n",
      "SHUCK; WHISHT HOUNDS) and wild huntsmen (see HERNE \n",
      "THE HUNTER; WILD HUNT). By the Middle Ages, beliefs in \n",
      "ghosts were manipulated by the Christian church, which \n",
      "\n",
      "Metadata: {'author': '', 'creationDate': \"D:20091127150656+01'00'\", 'creationdate': '2009-11-27T15:06:56+01:00', 'creator': '', 'file_path': 'Data\\\\The encyclopedia of ghosts and spirits.pdf', 'format': 'PDF 1.6', 'keywords': '', 'modDate': \"D:20091206104657+02'00'\", 'moddate': '2009-12-06T10:46:57+02:00', 'page': 33.0, 'producer': 'Acrobat Distiller 7.0.5 for Macintosh', 'source': 'Data\\\\The encyclopedia of ghosts and spirits.pdf', 'subject': '', 'title': '', 'total_pages': 577.0, 'trapped': ''}\n",
      "\n",
      "Score: 0.644065678\n",
      "Document: or violent that their last moments overpower their desire to \n",
      "go on to the Other Side or else they do not realize or accept \n",
      "that they are dead. These spirits, often associated with old \n",
      "houses and graveyards, may manifest as annoying habits \n",
      "(knocking, running faucets, movement of small objects) or \n",
      "as lighted balls or mists. If a witness to such activity recog-\n",
      "nizes facial features, the ghost has become an apparition, \n",
      "according to the Warrens.\n",
      "Inhuman, demonic inﬂ uences, however, are not earth-\n",
      "bound and do not require human energy or light for man-\n",
      "ifestation. Evil incarnations, they attempt to overpower \n",
      "their victims through a regimen of physical, mental, and \n",
      "emotional abuse. The Warrens stressed that God does \n",
      "not let evil visit humans, but that humans must in some \n",
      "way invite the malevolence into their lives: by toying with \n",
      "the supernatural (conjuring, TALKING BOARDS; SEANCES, \n",
      "black WITCHCRAFT, and Satanic rituals); by sinking into \n",
      "\n",
      "Metadata: {'author': '', 'creationDate': \"D:20091127150656+01'00'\", 'creationdate': '2009-11-27T15:06:56+01:00', 'creator': '', 'file_path': 'Data\\\\The encyclopedia of ghosts and spirits.pdf', 'format': 'PDF 1.6', 'keywords': '', 'modDate': \"D:20091206104657+02'00'\", 'moddate': '2009-12-06T10:46:57+02:00', 'page': 526.0, 'producer': 'Acrobat Distiller 7.0.5 for Macintosh', 'source': 'Data\\\\The encyclopedia of ghosts and spirits.pdf', 'subject': '', 'title': '', 'total_pages': 577.0, 'trapped': ''}\n",
      "\n",
      "Score: 0.640632808\n",
      "Document: ghosts are a way that the living retain connection with the \n",
      "dead and the past—we cocreate an experience with the \n",
      "dead and with energy of place.\n",
      "Some ghosts involve intensely personal experiences, \n",
      "such as a visit from a departed loved one. These may be \n",
      "one-time-only experiences, but can have a profound impact. \n",
      "The ﬁ elds of dreamwork, after-death communications, elec-\n",
      "tronic voice phenomena, instrumental transcommunication, \n",
      "and survival research are exploring these experiences.\n",
      "Some hauntings are also populated by nonhuman \n",
      "entities. I do believe in spirits attached to place, such \n",
      "as belong to the nature realm—the elementals and fair-\n",
      "ies. There are also demonic entities that linger in places \n",
      "and become attached to people. Angels can haunt a place \n",
      "as well. We usually don’t associate angels with haunt-\n",
      "ings, but their anchored presences in holy places, such as \n",
      "wells, springs, and shrines with healing properties, have \n",
      "been recorded since ancient times. \n",
      "\n",
      "Metadata: {'author': '', 'creationDate': \"D:20091127150656+01'00'\", 'creationdate': '2009-11-27T15:06:56+01:00', 'creator': '', 'file_path': 'Data\\\\The encyclopedia of ghosts and spirits.pdf', 'format': 'PDF 1.6', 'keywords': '', 'modDate': \"D:20091206104657+02'00'\", 'moddate': '2009-12-06T10:46:57+02:00', 'page': 12.0, 'producer': 'Acrobat Distiller 7.0.5 for Macintosh', 'source': 'Data\\\\The encyclopedia of ghosts and spirits.pdf', 'subject': '', 'title': '', 'total_pages': 577.0, 'trapped': ''}\n"
     ]
    }
   ],
   "source": [
    "print(f\"Retrived Documents:\")\n",
    "for doc, score in search:\n",
    "    print(f\"\\nScore: {score}\\nDocument: {doc.page_content} \\n\\nMetadata: {doc.metadata}\")"
   ]
  },
  {
   "cell_type": "code",
   "execution_count": 29,
   "id": "d252e8a1",
   "metadata": {},
   "outputs": [],
   "source": [
    "# Format the retrieved documents for the prompt\n",
    "context = format_docs_for_prompt(search)"
   ]
  },
  {
   "cell_type": "code",
   "execution_count": 31,
   "id": "335c1033",
   "metadata": {},
   "outputs": [
    {
     "name": "stdout",
     "output_type": "stream",
     "text": [
      "Formatted Context: \n",
      "### Document: chunk_1406\n",
      "Source: The encyclopedia of ghosts and spirits.pdf\n",
      "Page: 33.0\n",
      "\n",
      "Content: held by tribal cultures around the world. The appearance of spirits of the dead plays a role in rituals and beliefs among native North and South Americans. In some South American tribes, the dead appear as guardian spirits to medicine men and shamans. The ancient Hebrews, Egyptians, Greeks, and Romans believed that the souls of the dead could return to haunt the living. The Roman scholar Pliny the Younger recorded the case of a Greek philosopher who moved into a haunted house. An apparition appeared wearing chains and led the philosopher to a spot where an excavation later revealed a skeleton in chains (see ATHENODORUS, HAUNTING OF). During the Dark Ages, people believed in all manner of apparitions, usually frightful: DEMONS, VAMPIRES, and spectral creatures such as BLACK DOGS (see also BLACK SHUCK; WHISHT HOUNDS) and wild huntsmen (see HERNE THE HUNTER; WILD HUNT). By the Middle Ages, beliefs in ghosts were manipulated by the Christian church, which\n",
      "---\n",
      "\n",
      "### Document: chunk_4764\n",
      "Source: The encyclopedia of ghosts and spirits.pdf\n",
      "Page: 526.0\n",
      "\n",
      "Content: or violent that their last moments overpower their desire to go on to the Other Side or else they do not realize or accept that they are dead. These spirits, often associated with old houses and graveyards, may manifest as annoying habits (knocking, running faucets, movement of small objects) or as lighted balls or mists. If a witness to such activity recognizes facial features, the ghost has become an apparition, according to the Warrens. Inhuman, demonic inﬂ uences, however, are not earthbound and do not require human energy or light for manifestation. Evil incarnations, they attempt to overpower their victims through a regimen of physical, mental, and emotional abuse. The Warrens stressed that God does not let evil visit humans, but that humans must in some way invite the malevolence into their lives: by toying with the supernatural (conjuring, TALKING BOARDS; SEANCES, black WITCHCRAFT, and Satanic rituals); by sinking into\n",
      "---\n",
      "\n",
      "### Document: chunk_1267\n",
      "Source: The encyclopedia of ghosts and spirits.pdf\n",
      "Page: 12.0\n",
      "\n",
      "Content: ghosts are a way that the living retain connection with the dead and the past—we cocreate an experience with the dead and with energy of place. Some ghosts involve intensely personal experiences, such as a visit from a departed loved one. These may be one-time-only experiences, but can have a profound impact. The ﬁ elds of dreamwork, after-death communications, electronic voice phenomena, instrumental transcommunication, and survival research are exploring these experiences. Some hauntings are also populated by nonhuman entities. I do believe in spirits attached to place, such as belong to the nature realm—the elementals and fairies. There are also demonic entities that linger in places and become attached to people. Angels can haunt a place as well. We usually don’t associate angels with hauntings, but their anchored presences in holy places, such as wells, springs, and shrines with healing properties, have been recorded since ancient times.\n",
      "---\n",
      "\n"
     ]
    }
   ],
   "source": [
    "print(f\"Formatted Context: \\n{context}\")"
   ]
  },
  {
   "cell_type": "code",
   "execution_count": 32,
   "id": "90b0c227",
   "metadata": {},
   "outputs": [],
   "source": [
    "# Initialize the HuggingFace Llama model\n",
    "llm = HuggingFaceEndpoint(\n",
    "    repo_id = \"meta-llama/Meta-Llama-3-8B-Instruct\",\n",
    "    task = \"text-generation\",\n",
    "    max_new_tokens = 100,\n",
    "    temperature = 0.1,\n",
    ")\n",
    "model = ChatHuggingFace(llm=llm)    # Initialize the HuggingFace model for chat"
   ]
  },
  {
   "cell_type": "code",
   "execution_count": 35,
   "id": "6f034163",
   "metadata": {},
   "outputs": [],
   "source": [
    "# Define the question to ask\n",
    "question = \"Tell me 5 things about Ghosts.\"\n",
    "\n",
    "# Invoke the prompt with the context and question\n",
    "query = prompt.format(\n",
    "    context=context,\n",
    "    question=question\n",
    ")"
   ]
  },
  {
   "cell_type": "code",
   "execution_count": 36,
   "id": "42ff5b61",
   "metadata": {},
   "outputs": [
    {
     "name": "stdout",
     "output_type": "stream",
     "text": [
      "Final Query: \n",
      "\n",
      "    You are a helpful assistant for answering questions about Supernatural stuffs such as Ghost, Demon, Vampire, Werewolf, etc.\n",
      "\n",
      "    Use the following context:\n",
      "    ---------------\n",
      "    ### Document: chunk_1406\n",
      "Source: The encyclopedia of ghosts and spirits.pdf\n",
      "Page: 33.0\n",
      "\n",
      "Content: held by tribal cultures around the world. The appearance of spirits of the dead plays a role in rituals and beliefs among native North and South Americans. In some South American tribes, the dead appear as guardian spirits to medicine men and shamans. The ancient Hebrews, Egyptians, Greeks, and Romans believed that the souls of the dead could return to haunt the living. The Roman scholar Pliny the Younger recorded the case of a Greek philosopher who moved into a haunted house. An apparition appeared wearing chains and led the philosopher to a spot where an excavation later revealed a skeleton in chains (see ATHENODORUS, HAUNTING OF). During the Dark Ages, people believed in all manner of apparitions, usually frightful: DEMONS, VAMPIRES, and spectral creatures such as BLACK DOGS (see also BLACK SHUCK; WHISHT HOUNDS) and wild huntsmen (see HERNE THE HUNTER; WILD HUNT). By the Middle Ages, beliefs in ghosts were manipulated by the Christian church, which\n",
      "---\n",
      "\n",
      "### Document: chunk_4764\n",
      "Source: The encyclopedia of ghosts and spirits.pdf\n",
      "Page: 526.0\n",
      "\n",
      "Content: or violent that their last moments overpower their desire to go on to the Other Side or else they do not realize or accept that they are dead. These spirits, often associated with old houses and graveyards, may manifest as annoying habits (knocking, running faucets, movement of small objects) or as lighted balls or mists. If a witness to such activity recognizes facial features, the ghost has become an apparition, according to the Warrens. Inhuman, demonic inﬂ uences, however, are not earthbound and do not require human energy or light for manifestation. Evil incarnations, they attempt to overpower their victims through a regimen of physical, mental, and emotional abuse. The Warrens stressed that God does not let evil visit humans, but that humans must in some way invite the malevolence into their lives: by toying with the supernatural (conjuring, TALKING BOARDS; SEANCES, black WITCHCRAFT, and Satanic rituals); by sinking into\n",
      "---\n",
      "\n",
      "### Document: chunk_1267\n",
      "Source: The encyclopedia of ghosts and spirits.pdf\n",
      "Page: 12.0\n",
      "\n",
      "Content: ghosts are a way that the living retain connection with the dead and the past—we cocreate an experience with the dead and with energy of place. Some ghosts involve intensely personal experiences, such as a visit from a departed loved one. These may be one-time-only experiences, but can have a profound impact. The ﬁ elds of dreamwork, after-death communications, electronic voice phenomena, instrumental transcommunication, and survival research are exploring these experiences. Some hauntings are also populated by nonhuman entities. I do believe in spirits attached to place, such as belong to the nature realm—the elementals and fairies. There are also demonic entities that linger in places and become attached to people. Angels can haunt a place as well. We usually don’t associate angels with hauntings, but their anchored presences in holy places, such as wells, springs, and shrines with healing properties, have been recorded since ancient times.\n",
      "---\n",
      "\n",
      "    ---------------\n",
      "\n",
      "    Answer the question concisely and accurately based on the provided context. If the answer is not in the context, say something you don't know the information about this.\n",
      "    Question: Tell me 5 things about Ghosts.\n",
      "    Answer:\n",
      "    \n"
     ]
    }
   ],
   "source": [
    "print(f\"Final Query: \\n{query}\")"
   ]
  },
  {
   "cell_type": "code",
   "execution_count": 37,
   "id": "49867f4c",
   "metadata": {},
   "outputs": [],
   "source": [
    "# Invoke the model with the query\n",
    "answer = model.invoke(query)"
   ]
  },
  {
   "cell_type": "code",
   "execution_count": 39,
   "id": "b4f9d3be",
   "metadata": {},
   "outputs": [
    {
     "name": "stdout",
     "output_type": "stream",
     "text": [
      "Answer: \n",
      "Based on the provided context, here are 5 things about ghosts:\n",
      "\n",
      "1. **Appearance of spirits**: In some South American tribes, spirits of the dead appear as guardian spirits to medicine men and shamans, whereas in ancient cultures such as the Greeks and Romans, the souls of the dead could return to haunt the living.\n",
      "2. **Manifestation**: Ghosts may manifest as annoying habits, such as knocking or running faucets, or as lighted balls or mists. They can also become apparitions if facial features are recognized by witnesses.\n",
      "3. **Connection to the past**: Ghosts allow the living to retain a connection with the dead and the past. They can also involve intensely personal experiences, such as visits from departed loved ones.\n",
      "4. **Types of ghosts**: There are various types of ghosts, including those attached to places, such as elementals and fairies, and nonhuman entities like demons and angels.\n",
      "5. **Influencing human lives**: According to the Warrens, humans invite malevolence into their lives by toying with the supernatural or engaging in activities like conjuring, talking boards, and Satanism.\n"
     ]
    }
   ],
   "source": [
    "print(f\"Answer: \\n{answer.content}\")"
   ]
  },
  {
   "cell_type": "code",
   "execution_count": 42,
   "id": "1962cb62",
   "metadata": {},
   "outputs": [],
   "source": [
    "# initialize the output parser\n",
    "# This parser will convert the model's output into a string format\n",
    "parser = StrOutputParser()"
   ]
  },
  {
   "cell_type": "code",
   "execution_count": 43,
   "id": "a16650e7",
   "metadata": {},
   "outputs": [],
   "source": [
    "# Define the parallel chain to run the retrieval and formatting in parallel\n",
    "# This chain will take the context and question as inputs and return the formatted query\n",
    "parallel_chain = RunnableParallel({\n",
    "    \"context\": RunnableLambda(retrieve_query) | RunnableLambda(format_docs_for_prompt),\n",
    "    \"question\": RunnablePassthrough()\n",
    "})\n",
    "\n",
    "# Combine the parallel chain with the prompt, model, and parser\n",
    "# This chain will first retrieve the context and format it, then use the prompt to create a query,\n",
    "# invoke the model with the query, and finally parse the output\n",
    "chain = parallel_chain | prompt | model | parser"
   ]
  },
  {
   "cell_type": "code",
   "execution_count": 44,
   "id": "6cfe6153",
   "metadata": {},
   "outputs": [],
   "source": [
    "# Invoke the chain with a specific question\n",
    "answer = chain.invoke(\"Write 5 point about Spirits\")"
   ]
  },
  {
   "cell_type": "code",
   "execution_count": 45,
   "id": "5d6fd1ac",
   "metadata": {},
   "outputs": [
    {
     "name": "stdout",
     "output_type": "stream",
     "text": [
      "Based on the provided context, here are 5 points about Spirits:\n",
      "\n",
      "1. **Definition**: A spirit is a discarnate being, essence, or supernatural force of nature that exists in an invisible realm.\n",
      "2. **Existence**: Spirits are believed to intervene regularly in the affairs of humanity, for better or worse, and can be seen under certain circumstances or by persons with clairvoyance.\n",
      "3. **Variety**: Spirits come in a multitude of guises, such as fairies, elves, monsters, demons, and angels.\n",
      "4. **Role in Religions**: Spirits are recognized, worshipped, and propitiated in animistic societies, and are often associated with primal qualities, characteristics, and elemental forces.\n",
      "5. **Reverence**: In many societies, including animistic ones, ancestral spirits of the dead are particularly revered and honored, with households having special altars or spirit houses to feed offerings and seek advice and protection.\n"
     ]
    }
   ],
   "source": [
    "print(answer)"
   ]
  },
  {
   "cell_type": "code",
   "execution_count": 46,
   "id": "76c7d569",
   "metadata": {},
   "outputs": [],
   "source": [
    "# invoke the chain with a question that is not in the context\n",
    "answer = chain.invoke(\"What is Artificial Intelligence?\")"
   ]
  },
  {
   "cell_type": "code",
   "execution_count": 47,
   "id": "40941d93",
   "metadata": {},
   "outputs": [
    {
     "name": "stdout",
     "output_type": "stream",
     "text": [
      "I don't know the information about this. The provided context is related to supernatural creatures and doesn't mention Artificial Intelligence.\n"
     ]
    }
   ],
   "source": [
    "print(answer)"
   ]
  }
 ],
 "metadata": {
  "kernelspec": {
   "display_name": "spirichat",
   "language": "python",
   "name": "python3"
  },
  "language_info": {
   "codemirror_mode": {
    "name": "ipython",
    "version": 3
   },
   "file_extension": ".py",
   "mimetype": "text/x-python",
   "name": "python",
   "nbconvert_exporter": "python",
   "pygments_lexer": "ipython3",
   "version": "3.12.10"
  }
 },
 "nbformat": 4,
 "nbformat_minor": 5
}
